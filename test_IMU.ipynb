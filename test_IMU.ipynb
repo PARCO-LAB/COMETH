{
 "cells": [
  {
   "cell_type": "code",
   "execution_count": null,
   "metadata": {},
   "outputs": [],
   "source": [
    "import pandas as pd\n",
    "from COMETH import Skeleton,DynamicSkeleton\n",
    "import nimblephysics as nimble\n",
    "import numpy as np\n",
    "import json\n",
    "import time\n",
    "import csv\n",
    "gui = nimble.NimbleGUI()\n",
    "gui.serve(8080)\n",
    "\n",
    "# sudo lsof -iTCP:8080 -sTCP:LISTEN"
   ]
  },
  {
   "cell_type": "code",
   "execution_count": null,
   "metadata": {},
   "outputs": [],
   "source": [
    "gui.nativeAPI().clear()\n",
    "# Build skeleton\n",
    "s12 = Skeleton('BODY12.xml')\n",
    "# BSM\n",
    "s = DynamicSkeleton(config='BODY15_constrained_3D.xml')\n",
    "s.hip_correction = False\n",
    "# gui.nativeAPI().renderSkeleton(s._nimble)\n",
    "axis_length=0.2\n",
    "gui.nativeAPI().createLine(key='x_axis',points=[np.array([0,0,0]),np.array([axis_length,0,0])],color=np.array([255,0,0,1]))\n",
    "gui.nativeAPI().createLine(key='y_axis',points=[np.array([0,0,0]),np.array([0,axis_length,0])],color=np.array([0,255,0,1]))\n",
    "gui.nativeAPI().createLine(key='z_axis',points=[np.array([0,0,0]),np.array([0,0,axis_length])],color=np.array([0,0,255,1]))\n",
    "\n",
    "# Read data from CSV\n",
    "# markers = pd.read_csv(\"~/nas/MAEVE/BEFINE/wearable_camera/TotalCapture/CommonFormat/vicon/s1/acting1/vicon_s1_acting1.csv\")\n",
    "# imus = pd.read_csv(\"~/nas/MAEVE/BEFINE/wearable_camera/TotalCapture/CommonFormat/imu/s1/acting1/imu_s1_acting1.csv\")\n",
    "markers = pd.read_csv(\"tmp/imu/vicon_s1_acting1.csv\")\n",
    "imus = pd.read_csv(\"tmp/imu/imu_s1_acting1.csv\")"
   ]
  },
  {
   "cell_type": "code",
   "execution_count": null,
   "metadata": {},
   "outputs": [],
   "source": [
    "# Build the markers dataframe with only the subset we are interested in\n",
    "\n",
    "Rx = np.array([\n",
    "    [1,0,0 ],\n",
    "    [0,0,-1 ],\n",
    "    [0,1,0]\n",
    "])\n",
    "\n",
    "markers.columns\n",
    "markers_dict = {\n",
    "'RKnee': 'right_knee',\n",
    "'LWrist': 'left_wrist',\n",
    "'RHip': 'right_hip',\n",
    "'RShoulder': 'right_shoulder',\n",
    "'LElbow': 'left_elbow',\n",
    "'LHip': 'left_hip',\n",
    "'RElbow': 'right_elbow',\n",
    "'RWrist': 'right_wrist',\n",
    "'LKnee': 'left_knee',\n",
    "'LShoulder': 'left_shoulder',\n",
    "'RAnkle': 'right_ankle',\n",
    "'LAnkle': 'left_ankle'\n",
    " }\n",
    "target = []\n",
    "for i in range(markers.shape[0]):\n",
    "    row = []\n",
    "    for kp in markers_dict.keys():\n",
    "        p = np.array([markers[markers_dict[kp]+\"_x\"][i],markers[markers_dict[kp]+\"_y\"][i],markers[markers_dict[kp]+\"_z\"][i]])\n",
    "        # rotate the 3d point -90 on the x axis (from y up to z up)\n",
    "        p_n = Rx.dot(p)\n",
    "        # print(p,p_n)\n",
    "        row += p_n.tolist()\n",
    "    target.append(row)\n",
    "target = np.array(target)"
   ]
  },
  {
   "cell_type": "code",
   "execution_count": null,
   "metadata": {},
   "outputs": [],
   "source": [
    "# Place virtual IMUs on the shoulders\n",
    "from typing import List, Tuple\n",
    "right_shoulder: nimble.dynamics.BodyNode = s._nimble.getBodyNode(\"humerus_r\")\n",
    "translation: np.ndarray = np.array([0.0, 0.00, 0.0])\n",
    "rotation: np.ndarray = np.eye(3)\n",
    "watch_offset: nimble.math.Isometry3 = nimble.math.Isometry3(rotation, translation)\n",
    "sensors: List[Tuple[nimble.dynamics.BodyNode, nimble.math.Isometry3]] = [(right_shoulder, watch_offset),]"
   ]
  },
  {
   "cell_type": "code",
   "execution_count": null,
   "metadata": {},
   "outputs": [],
   "source": [
    "pos_imu = right_shoulder.getWorldTransform().multiply(watch_offset).matrix()[0:3,3]\n",
    "s._nimble.setGravity(np.array([0.0, 0.0, -9.81]))\n",
    "s._nimble.getAccelerometerReadings(sensors)"
   ]
  },
  {
   "cell_type": "code",
   "execution_count": null,
   "metadata": {},
   "outputs": [],
   "source": [
    "# Move the body model using gt and exact qpik\n",
    "kps = list(markers_dict.keys())\n",
    "s.reset_history()\n",
    "for i in range(target.shape[0]):\n",
    "    s12.load_from_numpy(target[i,:].reshape(-1,3),s.kps)\n",
    "    s.load_from_BODY12(s12)\n",
    "    if i == 0:\n",
    "        s.exact_scale()\n",
    "    else:\n",
    "        s.exact_scale(max_iterations=100)\n",
    "        # s.filter([target[i,:].reshape(-1,3),])\n",
    "    gui.nativeAPI().renderSkeleton(s._nimble)\n",
    "    \n",
    "    pos_imu = right_shoulder.getWorldTransform().multiply(watch_offset).matrix()[0:3,3]\n",
    "    gui.nativeAPI().createSphere(key='imu', radii=np.array([0.02,0.02,0.02]),pos=pos_imu,color=np.array([255,255,0,0.8]))\n",
    "    \n",
    "    for j in range(0,int(target.shape[1]/3)):\n",
    "        pos = target[i,3*j:3*j+3].reshape(3,1)\n",
    "        gui.nativeAPI().createSphere(key=kps[j], radii=np.array([0.01,0.01,0.01]),pos=pos,color=np.array([0,255,0,0.8]))\n",
    "    \n",
    "\n",
    "    # Plot imu\n",
    "    print(s._nimble.getAccelerometerReadings(sensors))\n",
    "    \n",
    "    s.reset_history()\n",
    "    # time.sleep(0.1)"
   ]
  }
 ],
 "metadata": {
  "kernelspec": {
   "display_name": ".venv",
   "language": "python",
   "name": "python3"
  },
  "language_info": {
   "codemirror_mode": {
    "name": "ipython",
    "version": 3
   },
   "file_extension": ".py",
   "mimetype": "text/x-python",
   "name": "python",
   "nbconvert_exporter": "python",
   "pygments_lexer": "ipython3",
   "version": "3.10.12"
  }
 },
 "nbformat": 4,
 "nbformat_minor": 2
}
